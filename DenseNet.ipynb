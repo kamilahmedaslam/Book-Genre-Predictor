{
  "nbformat": 4,
  "nbformat_minor": 0,
  "metadata": {
    "colab": {
      "name": "449Project.ipynb",
      "provenance": [],
      "collapsed_sections": [],
      "toc_visible": true
    },
    "kernelspec": {
      "name": "python3",
      "display_name": "Python 3"
    },
    "language_info": {
      "name": "python"
    },
    "accelerator": "GPU"
  },
  "cells": [
    {
      "cell_type": "code",
      "metadata": {
        "id": "m3q0Wqa8RSu_"
      },
      "source": [
        "import pandas as pd\n",
        "import numpy as np\n",
        "import matplotlib.pyplot as plt\n",
        "import cv2\n",
        "from torchvision import datasets, transforms, models\n",
        "#from preprocessing import resizer, resize_image_to_square\n",
        "from PIL import Image, ImageOps\n",
        "import os\n",
        "import torch.nn as nn\n",
        "import torch\n",
        "import torch.optim as optim\n",
        "\n",
        "from skimage.transform import resize\n",
        "\n",
        "\n",
        "from sklearn.model_selection import train_test_split \n",
        "from sklearn.metrics import classification_report \n",
        "\n",
        "\n",
        "\n",
        "\n",
        "#https://www.kaggle.com/lukaanicin/book-covers-dataset?select=main_dataset.csv"
      ],
      "execution_count": null,
      "outputs": []
    },
    {
      "cell_type": "code",
      "metadata": {
        "id": "3JRn0309sfR_",
        "colab": {
          "base_uri": "https://localhost:8080/"
        },
        "outputId": "cfc8eb79-8a32-4715-cb0e-c954882fd7e4"
      },
      "source": [
        "from google.colab import drive\n",
        "drive.mount('/content/gdrive')\n",
        "#drive.mount(\"/content/gdrive\", force_remount=True)"
      ],
      "execution_count": null,
      "outputs": [
        {
          "output_type": "stream",
          "text": [
            "Drive already mounted at /content/gdrive; to attempt to forcibly remount, call drive.mount(\"/content/gdrive\", force_remount=True).\n"
          ],
          "name": "stdout"
        }
      ]
    },
    {
      "cell_type": "markdown",
      "metadata": {
        "id": "K3MQsjv-Vt9H"
      },
      "source": [
        "## Data Acquisition and Preprocessing\n"
      ]
    },
    {
      "cell_type": "code",
      "metadata": {
        "colab": {
          "base_uri": "https://localhost:8080/",
          "height": 289
        },
        "id": "-s9f0HTqVu72",
        "outputId": "9c01a083-057f-49c5-d1cc-00a97b5ba6b8"
      },
      "source": [
        "maindf = pd.read_csv('/content/gdrive/MyDrive/machine vision project/data/main_dataset.csv')\n",
        "maindf.rename(columns={'book_depository_stars':'rating'}, inplace = True)\n",
        "maindf.dropna(subset = ['img_paths', 'category'])\n",
        "\n",
        "maindf.head()"
      ],
      "execution_count": null,
      "outputs": [
        {
          "output_type": "execute_result",
          "data": {
            "text/html": [
              "<div>\n",
              "<style scoped>\n",
              "    .dataframe tbody tr th:only-of-type {\n",
              "        vertical-align: middle;\n",
              "    }\n",
              "\n",
              "    .dataframe tbody tr th {\n",
              "        vertical-align: top;\n",
              "    }\n",
              "\n",
              "    .dataframe thead th {\n",
              "        text-align: right;\n",
              "    }\n",
              "</style>\n",
              "<table border=\"1\" class=\"dataframe\">\n",
              "  <thead>\n",
              "    <tr style=\"text-align: right;\">\n",
              "      <th></th>\n",
              "      <th>image</th>\n",
              "      <th>name</th>\n",
              "      <th>author</th>\n",
              "      <th>format</th>\n",
              "      <th>rating</th>\n",
              "      <th>price</th>\n",
              "      <th>currency</th>\n",
              "      <th>old_price</th>\n",
              "      <th>isbn</th>\n",
              "      <th>category</th>\n",
              "      <th>img_paths</th>\n",
              "    </tr>\n",
              "  </thead>\n",
              "  <tbody>\n",
              "    <tr>\n",
              "      <th>0</th>\n",
              "      <td>https://d1w7fb2mkkr3kw.cloudfront.net/assets/i...</td>\n",
              "      <td>Fantastic Beasts and Where to Find Them</td>\n",
              "      <td>J. K. Rowling</td>\n",
              "      <td>Hardback</td>\n",
              "      <td>4.5</td>\n",
              "      <td>11.05</td>\n",
              "      <td>$</td>\n",
              "      <td>21.5</td>\n",
              "      <td>9781408708989</td>\n",
              "      <td>Art-Photography</td>\n",
              "      <td>dataset/Art-Photography/0000001.jpg</td>\n",
              "    </tr>\n",
              "    <tr>\n",
              "      <th>1</th>\n",
              "      <td>https://d1w7fb2mkkr3kw.cloudfront.net/assets/i...</td>\n",
              "      <td>The Mindfulness Colouring Book</td>\n",
              "      <td>Emma Farrarons</td>\n",
              "      <td>Paperback</td>\n",
              "      <td>4.0</td>\n",
              "      <td>6.8</td>\n",
              "      <td>$</td>\n",
              "      <td>10.5</td>\n",
              "      <td>9780752265629</td>\n",
              "      <td>Art-Photography</td>\n",
              "      <td>dataset/Art-Photography/0000002.jpg</td>\n",
              "    </tr>\n",
              "    <tr>\n",
              "      <th>2</th>\n",
              "      <td>https://d1w7fb2mkkr3kw.cloudfront.net/assets/i...</td>\n",
              "      <td>Fantastic Beasts: The Crimes of Grindelwald - ...</td>\n",
              "      <td>J.K. Rowling</td>\n",
              "      <td>Hardback</td>\n",
              "      <td>4.0</td>\n",
              "      <td>15.14</td>\n",
              "      <td>$</td>\n",
              "      <td>18.0</td>\n",
              "      <td>9781408711705</td>\n",
              "      <td>Art-Photography</td>\n",
              "      <td>dataset/Art-Photography/0000003.jpg</td>\n",
              "    </tr>\n",
              "    <tr>\n",
              "      <th>3</th>\n",
              "      <td>https://d1w7fb2mkkr3kw.cloudfront.net/assets/i...</td>\n",
              "      <td>Moleskine Large Watercolour Album And Notebook</td>\n",
              "      <td>Moleskine</td>\n",
              "      <td>Notebook / blank book</td>\n",
              "      <td>0.0</td>\n",
              "      <td>11.86</td>\n",
              "      <td>$</td>\n",
              "      <td>19.9</td>\n",
              "      <td>9788883705625</td>\n",
              "      <td>Art-Photography</td>\n",
              "      <td>dataset/Art-Photography/0000004.jpg</td>\n",
              "    </tr>\n",
              "    <tr>\n",
              "      <th>4</th>\n",
              "      <td>https://d1w7fb2mkkr3kw.cloudfront.net/assets/i...</td>\n",
              "      <td>The Complete MAUS</td>\n",
              "      <td>Art Spiegelman</td>\n",
              "      <td>Paperback</td>\n",
              "      <td>4.5</td>\n",
              "      <td>17.61</td>\n",
              "      <td>$</td>\n",
              "      <td>21.1</td>\n",
              "      <td>9780141014081</td>\n",
              "      <td>Art-Photography</td>\n",
              "      <td>dataset/Art-Photography/0000005.jpg</td>\n",
              "    </tr>\n",
              "  </tbody>\n",
              "</table>\n",
              "</div>"
            ],
            "text/plain": [
              "                                               image  ...                            img_paths\n",
              "0  https://d1w7fb2mkkr3kw.cloudfront.net/assets/i...  ...  dataset/Art-Photography/0000001.jpg\n",
              "1  https://d1w7fb2mkkr3kw.cloudfront.net/assets/i...  ...  dataset/Art-Photography/0000002.jpg\n",
              "2  https://d1w7fb2mkkr3kw.cloudfront.net/assets/i...  ...  dataset/Art-Photography/0000003.jpg\n",
              "3  https://d1w7fb2mkkr3kw.cloudfront.net/assets/i...  ...  dataset/Art-Photography/0000004.jpg\n",
              "4  https://d1w7fb2mkkr3kw.cloudfront.net/assets/i...  ...  dataset/Art-Photography/0000005.jpg\n",
              "\n",
              "[5 rows x 11 columns]"
            ]
          },
          "metadata": {
            "tags": []
          },
          "execution_count": 4
        }
      ]
    },
    {
      "cell_type": "code",
      "metadata": {
        "colab": {
          "base_uri": "https://localhost:8080/",
          "height": 873
        },
        "id": "kkheQklkWA4M",
        "outputId": "28b58573-6218-447c-e472-7911522d17e0"
      },
      "source": [
        "plt.figure(figsize=(20,12))\n",
        "plt.xticks(rotation = 45)\n",
        "\n",
        "plt.hist(maindf['rating'])\n",
        "plt.tight_layout()"
      ],
      "execution_count": null,
      "outputs": [
        {
          "output_type": "display_data",
          "data": {
            "image/png": "[encoded data removed]",
            "text/plain": [
              "<Figure size 1440x864 with 1 Axes>"
            ]
          },
          "metadata": {
            "tags": [],
            "needs_background": "light"
          }
        }
      ]
    },
    {
      "cell_type": "code",
      "metadata": {
        "colab": {
          "base_uri": "https://localhost:8080/",
          "height": 387
        },
        "id": "GerH1LjA0-2z",
        "outputId": "e87a1272-943d-4f95-949e-465fa1bcf150"
      },
      "source": [
        "\n",
        "genres = ['Science-Fiction-Fantasy-Horror', 'Biography', 'Graphic-Novels-Anime-Manga', 'Poetry-Drama', 'Business-Finance-Law']\n",
        "\n",
        "\n",
        "genreCats = maindf[maindf['category'].isin(genres) ]\n",
        "plt.hist(genreCats['category'])\n",
        "plt.xticks(rotation = 45)"
      ],
      "execution_count": null,
      "outputs": [
        {
          "output_type": "execute_result",
          "data": {
            "text/plain": [
              "([0, 1, 2, 3, 4], <a list of 5 Text major ticklabel objects>)"
            ]
          },
          "metadata": {
            "tags": []
          },
          "execution_count": 6
        },
        {
          "output_type": "display_data",
          "data": {
            "image/png": "[encoded data removed]",
            "text/plain": [
              "<Figure size 432x288 with 1 Axes>"
            ]
          },
          "metadata": {
            "tags": [],
            "needs_background": "light"
          }
        }
      ]
    },
    {
      "cell_type": "code",
      "metadata": {
        "colab": {
          "base_uri": "https://localhost:8080/",
          "height": 297
        },
        "id": "09w-yBpIqrs3",
        "outputId": "d17281ba-445f-40c3-eadc-c4e1bd9e0ab7"
      },
      "source": [
        "maindf.describe()"
      ],
      "execution_count": null,
      "outputs": [
        {
          "output_type": "execute_result",
          "data": {
            "text/html": [
              "<div>\n",
              "<style scoped>\n",
              "    .dataframe tbody tr th:only-of-type {\n",
              "        vertical-align: middle;\n",
              "    }\n",
              "\n",
              "    .dataframe tbody tr th {\n",
              "        vertical-align: top;\n",
              "    }\n",
              "\n",
              "    .dataframe thead th {\n",
              "        text-align: right;\n",
              "    }\n",
              "</style>\n",
              "<table border=\"1\" class=\"dataframe\">\n",
              "  <thead>\n",
              "    <tr style=\"text-align: right;\">\n",
              "      <th></th>\n",
              "      <th>rating</th>\n",
              "      <th>old_price</th>\n",
              "      <th>isbn</th>\n",
              "    </tr>\n",
              "  </thead>\n",
              "  <tbody>\n",
              "    <tr>\n",
              "      <th>count</th>\n",
              "      <td>12819.000000</td>\n",
              "      <td>11003.000000</td>\n",
              "      <td>1.281900e+04</td>\n",
              "    </tr>\n",
              "    <tr>\n",
              "      <th>mean</th>\n",
              "      <td>4.075903</td>\n",
              "      <td>15.418995</td>\n",
              "      <td>9.780991e+12</td>\n",
              "    </tr>\n",
              "    <tr>\n",
              "      <th>std</th>\n",
              "      <td>0.539633</td>\n",
              "      <td>10.410598</td>\n",
              "      <td>9.081666e+08</td>\n",
              "    </tr>\n",
              "    <tr>\n",
              "      <th>min</th>\n",
              "      <td>0.000000</td>\n",
              "      <td>3.100000</td>\n",
              "      <td>9.780002e+12</td>\n",
              "    </tr>\n",
              "    <tr>\n",
              "      <th>25%</th>\n",
              "      <td>4.000000</td>\n",
              "      <td>10.300000</td>\n",
              "      <td>9.780341e+12</td>\n",
              "    </tr>\n",
              "    <tr>\n",
              "      <th>50%</th>\n",
              "      <td>4.000000</td>\n",
              "      <td>12.900000</td>\n",
              "      <td>9.780785e+12</td>\n",
              "    </tr>\n",
              "    <tr>\n",
              "      <th>75%</th>\n",
              "      <td>4.500000</td>\n",
              "      <td>17.000000</td>\n",
              "      <td>9.781477e+12</td>\n",
              "    </tr>\n",
              "    <tr>\n",
              "      <th>max</th>\n",
              "      <td>5.000000</td>\n",
              "      <td>222.600000</td>\n",
              "      <td>9.789888e+12</td>\n",
              "    </tr>\n",
              "  </tbody>\n",
              "</table>\n",
              "</div>"
            ],
            "text/plain": [
              "             rating     old_price          isbn\n",
              "count  12819.000000  11003.000000  1.281900e+04\n",
              "mean       4.075903     15.418995  9.780991e+12\n",
              "std        0.539633     10.410598  9.081666e+08\n",
              "min        0.000000      3.100000  9.780002e+12\n",
              "25%        4.000000     10.300000  9.780341e+12\n",
              "50%        4.000000     12.900000  9.780785e+12\n",
              "75%        4.500000     17.000000  9.781477e+12\n",
              "max        5.000000    222.600000  9.789888e+12"
            ]
          },
          "metadata": {
            "tags": []
          },
          "execution_count": 7
        }
      ]
    },
    {
      "cell_type": "code",
      "metadata": {
        "colab": {
          "base_uri": "https://localhost:8080/"
        },
        "id": "ucVdN4g_-KAt",
        "outputId": "b83fc1fe-a59b-4b4b-fb6e-b69e262cdba0"
      },
      "source": [
        "maindf['category'].value_counts()"
      ],
      "execution_count": null,
      "outputs": [
        {
          "output_type": "execute_result",
          "data": {
            "text/plain": [
              "Poetry-Drama                      990\n",
              "Teen-Young-Adult                  990\n",
              "Humour                            989\n",
              "Business-Finance-Law              989\n",
              "Science-Fiction-Fantasy-Horror    989\n",
              "Biography                         988\n",
              "Crime-Thriller                    988\n",
              "Graphic-Novels-Anime-Manga        988\n",
              "Personal-Development              987\n",
              "Childrens-Books                   986\n",
              "Art-Photography                   982\n",
              "Romance                           978\n",
              "Entertainment                     975\n",
              "Name: category, dtype: int64"
            ]
          },
          "metadata": {
            "tags": []
          },
          "execution_count": 8
        }
      ]
    },
    {
      "cell_type": "code",
      "metadata": {
        "colab": {
          "base_uri": "https://localhost:8080/"
        },
        "id": "ZMjiGiXzc81T",
        "outputId": "78720d80-19eb-47f2-aac7-21ce916a356a"
      },
      "source": [
        "maindf['rating'].value_counts()"
      ],
      "execution_count": null,
      "outputs": [
        {
          "output_type": "execute_result",
          "data": {
            "text/plain": [
              "4.0    7404\n",
              "4.5    4024\n",
              "3.5    1040\n",
              "0.0     144\n",
              "5.0     136\n",
              "3.0      65\n",
              "1.0       3\n",
              "2.5       2\n",
              "2.0       1\n",
              "Name: rating, dtype: int64"
            ]
          },
          "metadata": {
            "tags": []
          },
          "execution_count": 9
        }
      ]
    },
    {
      "cell_type": "code",
      "metadata": {
        "colab": {
          "base_uri": "https://localhost:8080/",
          "height": 103
        },
        "id": "6vOBD6nLiDzx",
        "outputId": "3d4e34c0-8b5d-41cf-a927-e9fbcd10c7b3"
      },
      "source": [
        "'''\n",
        "imgFolder = '/content/gdrive/MyDrive/machine vision project/data/ratings dataset/3.0'\n",
        "\n",
        "for image_file_name in os.listdir(imgFolder):\n",
        "    if image_file_name.endswith(\".jpg\"):\n",
        "        try:\n",
        "            im = Image.open(imgFolder+image_file_name)\n",
        "           \n",
        "            im = im.resize((128,128))\n",
        "            im = ImageOps.grayscale(im)\n",
        "            os.remove(imgFolder+image_file_name)\n",
        "            im.save(imgFolder+image_file_name)\n",
        "            \n",
        "            \n",
        "        except Exception:\n",
        "            pass\n",
        "'''"
      ],
      "execution_count": null,
      "outputs": [
        {
          "output_type": "execute_result",
          "data": {
            "application/vnd.google.colaboratory.intrinsic+json": {
              "type": "string"
            },
            "text/plain": [
              "'\\nimgFolder = \\'/content/gdrive/MyDrive/machine vision project/data/ratings dataset/3.0\\'\\n\\nfor image_file_name in os.listdir(imgFolder):\\n    if image_file_name.endswith(\".jpg\"):\\n        try:\\n            im = Image.open(imgFolder+image_file_name)\\n           \\n            im = im.resize((128,128))\\n            im = ImageOps.grayscale(im)\\n            os.remove(imgFolder+image_file_name)\\n            im.save(imgFolder+image_file_name)\\n            \\n            \\n        except Exception:\\n            pass\\n'"
            ]
          },
          "metadata": {
            "tags": []
          },
          "execution_count": 10
        }
      ]
    },
    {
      "cell_type": "code",
      "metadata": {
        "id": "Q_aIMGNN_aav",
        "colab": {
          "base_uri": "https://localhost:8080/",
          "height": 52
        },
        "outputId": "a7557702-b7a3-4ccd-800e-5e7e1e7d66bd"
      },
      "source": [
        "'''img = cv2.imread('/content/gdrive/MyDrive/machine vision project/data/ratings dataset/3.0/0000001.jpg')\n",
        "plt.imshow(img)\n",
        "plt.show()'''"
      ],
      "execution_count": null,
      "outputs": [
        {
          "output_type": "execute_result",
          "data": {
            "application/vnd.google.colaboratory.intrinsic+json": {
              "type": "string"
            },
            "text/plain": [
              "\"img = cv2.imread('/content/gdrive/MyDrive/machine vision project/data/ratings dataset/3.0/0000001.jpg')\\nplt.imshow(img)\\nplt.show()\""
            ]
          },
          "metadata": {
            "tags": []
          },
          "execution_count": 11
        }
      ]
    },
    {
      "cell_type": "code",
      "metadata": {
        "id": "HsuelmQRjVJP"
      },
      "source": [
        "transforms = transforms.Compose([\n",
        "                    transforms.RandomHorizontalFlip(),\n",
        "                    transforms.ToTensor(),\n",
        "                    transforms.Resize(128),\n",
        "                    transforms.Normalize(mean=(0.5,0.5,0.5), std=(0.5,0.5,0.5))])"
      ],
      "execution_count": null,
      "outputs": []
    },
    {
      "cell_type": "code",
      "metadata": {
        "id": "cy2kuWtJuJd6"
      },
      "source": [
        "book_covers_dir = '/content/gdrive/MyDrive/machine vision project/data/ratings dataset'\n",
        "\n",
        "fulldata = datasets.ImageFolder(root = book_covers_dir, transform=transforms )\n",
        "fulldata = torch.utils.data.Subset(fulldata, np.random.choice(len(fulldata), 2000, replace=False))\n",
        "\n",
        "train_size = int(0.8 * (len(fulldata)-3000))\n",
        "validation_size = len(fulldata) - train_size\n",
        "train_set, val_set = torch.utils.data.random_split(fulldata, [train_size, validation_size])"
      ],
      "execution_count": null,
      "outputs": []
    },
    {
      "cell_type": "code",
      "metadata": {
        "id": "-oB4r3GJaTez"
      },
      "source": [
        ""
      ],
      "execution_count": null,
      "outputs": []
    },
    {
      "cell_type": "code",
      "metadata": {
        "id": "BJa_Snlybcno"
      },
      "source": [
        "train_loader = torch.utils.data.DataLoader(train_set, batch_size=32, shuffle=True)\n",
        "val_loader = torch.utils.data.DataLoader(val_set, batch_size =32, shuffle=True)"
      ],
      "execution_count": null,
      "outputs": []
    },
    {
      "cell_type": "code",
      "metadata": {
        "id": "iic2fC9_p8q-"
      },
      "source": [
        "model = models.densenet161(pretrained=True)\n",
        "# Turn off training for their parameters\n",
        "for param in model.parameters():\n",
        "    param.requires_grad = False"
      ],
      "execution_count": null,
      "outputs": []
    },
    {
      "cell_type": "code",
      "metadata": {
        "id": "Lm5VXkbYsfej"
      },
      "source": [
        "# Create new classifier for model using torch.nn as nn library\n",
        "classifier_input = model.classifier.in_features\n",
        "num_labels = 10 #PUT IN THE NUMBER OF LABELS IN YOUR DATA\n",
        "classifier = nn.Sequential(nn.Linear(classifier_input, 1024),\n",
        "                           nn.ReLU(),\n",
        "                           nn.Linear(1024, 512),\n",
        "                           nn.ReLU(),\n",
        "                           nn.Linear(512, num_labels),\n",
        "                           nn.LogSoftmax(dim=1))\n",
        "# Replace default classifier with new classifier\n",
        "model.classifier = classifier"
      ],
      "execution_count": null,
      "outputs": []
    },
    {
      "cell_type": "code",
      "metadata": {
        "id": "SCS1M1jYsgKd"
      },
      "source": [
        "# Find the device available to use using torch library\n",
        "device = torch.device(\"cuda\" if torch.cuda.is_available() else \"cpu\")\n",
        "# Move model to the device specified above\n",
        "model.to(device)"
      ],
      "execution_count": null,
      "outputs": []
    },
    {
      "cell_type": "code",
      "metadata": {
        "id": "tiBXQ9P_sinB"
      },
      "source": [
        "# Set the error function using torch.nn as nn library\n",
        "criterion = nn.NLLLoss()\n",
        "# Set the optimizer function using torch.optim as optim library\n",
        "optimizer = optim.Adam(model.classifier.parameters())"
      ],
      "execution_count": null,
      "outputs": []
    },
    {
      "cell_type": "code",
      "metadata": {
        "id": "vbuNAnWhskPA"
      },
      "source": [
        ""
      ],
      "execution_count": null,
      "outputs": []
    },
    {
      "cell_type": "code",
      "metadata": {
        "id": "hXLugrA8AMrR"
      },
      "source": [
        "epochs = 10\n",
        "lr = 0.1\n",
        "accs = []\n",
        "train_losses = []\n",
        "val_losses = []\n",
        "\n",
        "for epoch in range(epochs):\n",
        "    train_loss = 0\n",
        "    val_loss = 0\n",
        "    accuracy = 0\n",
        "    \n",
        "    # Training the model\n",
        "    model.train()\n",
        "    counter = 0\n",
        "    for inputs, labels in train_loader:\n",
        "        # Move to device\n",
        "        inputs, labels = inputs.to(device), labels.to(device)\n",
        "        # Clear optimizers\n",
        "        optimizer.zero_grad()\n",
        "        # Forward pass\n",
        "        output = model.forward(inputs)\n",
        "        # Loss\n",
        "        loss = criterion(output, labels)\n",
        "        # Calculate gradients (backpropogation)\n",
        "        loss.backward()\n",
        "        # Adjust parameters based on gradients\n",
        "        optimizer.step()\n",
        "        # Add the loss to the training set's rnning loss\n",
        "        train_loss += loss.item()*inputs.size(0)\n",
        "        \n",
        "        # Print the progress of our training\n",
        "        counter += 1\n",
        "        print(counter, \"/\", len(train_loader))\n",
        "        \n",
        "    # Evaluating the model\n",
        "    model.eval()\n",
        "    counter = 0\n",
        "\n",
        "    with torch.no_grad():\n",
        "        for inputs, labels in val_loader:\n",
        "            # Move to device\n",
        "            inputs, labels = inputs.to(device), labels.to(device)\n",
        "            # Forward pass\n",
        "            output = model.forward(inputs)\n",
        "            # Calculate Loss\n",
        "            valloss = criterion(output, labels)\n",
        "            # Add loss to the validation set's running loss\n",
        "            val_loss += valloss.item()*inputs.size(0)\n",
        "            \n",
        "            # Since our model outputs a LogSoftmax, find the real \n",
        "            # percentages by reversing the log function\n",
        "            output = torch.exp(output)\n",
        "            # Get the top class of the output\n",
        "            top_p, top_class = output.topk(1, dim=1)\n",
        "            # See how many of the classes were correct?\n",
        "            equals = top_class == labels.view(*top_class.shape)\n",
        "            # Calculate the mean (get the accuracy for this batch)\n",
        "            # and add it to the running accuracy for this epoch\n",
        "            accuracy += torch.mean(equals.type(torch.FloatTensor)).item()\n",
        "            \n",
        "            # Print the progress of our evaluation\n",
        "            counter += 1\n",
        "            print(counter, \"/\", len(val_loader))\n",
        "    \n",
        "    # Get the average loss for the entire epoch\n",
        "    train_loss = train_loss/len(train_loader.dataset)\n",
        "    valid_loss = val_loss/len(val_loader.dataset)\n",
        "    # Print out the information\n",
        "    accs.append(accuracy/len(val_loader))\n",
        "    train_losses.append(train_loss)\n",
        "    val_losses.append(valid_loss)\n",
        "    print('Accuracy: ', accuracy/len(val_loader))\n",
        "    print('Epoch: {} \\tTraining Loss: {:.6f} \\tValidation Loss: {:.6f}'.format(epoch, train_loss, valid_loss))"
      ],
      "execution_count": null,
      "outputs": []
    },
    {
      "cell_type": "code",
      "metadata": {
        "id": "RnxcxxeqAM5D",
        "colab": {
          "base_uri": "https://localhost:8080/",
          "height": 282
        },
        "outputId": "76aff395-663c-4273-ed98-27716391e758"
      },
      "source": [
        "plt.plot(range(0,10), val_losses,  label = \"Validation Loss\")\n",
        "plt.plot(range(0,10), train_losses, label = \"Training Loss\")\n",
        "plt.plot(range(0,10), accs, label = (\"Accuracy\"))\n",
        "\n",
        "plt.legend()"
      ],
      "execution_count": null,
      "outputs": [
        {
          "output_type": "execute_result",
          "data": {
            "text/plain": [
              "<matplotlib.legend.Legend at 0x7fd4f49629d0>"
            ]
          },
          "metadata": {
            "tags": []
          },
          "execution_count": 55
        },
        {
          "output_type": "display_data",
          "data": {
            "image/png": "[encoded data removed]",
            "text/plain": [
              "<Figure size 432x288 with 1 Axes>"
            ]
          },
          "metadata": {
            "tags": [],
            "needs_background": "light"
          }
        }
      ]
    },
    {
      "cell_type": "code",
      "metadata": {
        "id": "hsXxxG74UOIt",
        "colab": {
          "base_uri": "https://localhost:8080/"
        },
        "outputId": "aa8b1a67-d0ed-41c6-d8c1-beeb6c7e5d5d"
      },
      "source": [
        "np.average(accs)"
      ],
      "execution_count": null,
      "outputs": [
        {
          "output_type": "execute_result",
          "data": {
            "text/plain": [
              "0.8150000000000001"
            ]
          },
          "metadata": {
            "tags": []
          },
          "execution_count": 56
        }
      ]
    },
    {
      "cell_type": "code",
      "metadata": {
        "id": "LILqeHKQkDwa"
      },
      "source": [
        ""
      ],
      "execution_count": null,
      "outputs": []
    },
    {
      "cell_type": "code",
      "metadata": {
        "id": "btLNmoeAkEEY"
      },
      "source": [
        "\n",
        "        "
      ],
      "execution_count": null,
      "outputs": []
    }
  ]
}